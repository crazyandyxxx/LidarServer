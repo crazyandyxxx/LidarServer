{
 "cells": [
  {
   "cell_type": "code",
   "execution_count": 1,
   "metadata": {},
   "outputs": [],
   "source": [
    "###################################################################读入原始数据\n",
    "%matplotlib inline\n",
    "import matplotlib as mpl\n",
    "import matplotlib.pyplot as plt\n",
    "import numpy as np\n",
    "import xlrd\n",
    "mpl.rcParams['figure.figsize'] = (14,6)\n",
    "plt.rcParams['font.sans-serif']=['SimHei'] #用来正常显示中文标签\n",
    "plt.rcParams['axes.unicode_minus']=False #用来正常显示负号"
   ]
  },
  {
   "cell_type": "code",
   "execution_count": 2,
   "metadata": {},
   "outputs": [],
   "source": [
    "def get_channel_data(file=''):\n",
    "    wb = xlrd.open_workbook(filename=file)\n",
    "    table = wb.sheet_by_index(0)\n",
    "    nrows = table.nrows\n",
    "    data =[] #装读取结果的序列\n",
    "    for rn in range(1, nrows): #遍历每一行的内容\n",
    "        row = table.row_values(rn) #根据行号获取行\n",
    "        if row: #如果行存在\n",
    "            data.append(row[1:])\n",
    "    data = np.array(data)\n",
    "    return data"
   ]
  },
  {
   "cell_type": "code",
   "execution_count": 3,
   "metadata": {},
   "outputs": [],
   "source": [
    "#读取原始数据\n",
    "fileA = 'A通道2019-04-05 190132──2019-04-05 210112.xlsx'\n",
    "fileB = 'B通道2019-04-05 190132──2019-04-05 210112.xlsx'\n",
    "ChAAll = get_channel_data(file=fileA)\n",
    "ChBAll = get_channel_data(file=fileB)"
   ]
  },
  {
   "cell_type": "code",
   "execution_count": 4,
   "metadata": {},
   "outputs": [],
   "source": [
    "resolution = 7.5\n",
    "r = np.linspace(7.5,30000,4000)\n",
    "chA = ChAAll[10]\n",
    "chB = ChBAll[10]\n",
    "overlapA = np.ones(len(chA))\n",
    "overlapB = np.ones(len(chB))"
   ]
  },
  {
   "cell_type": "code",
   "execution_count": 5,
   "metadata": {},
   "outputs": [
    {
     "data": {
      "text/plain": [
       "(0.9655172413793104, 0.4482758620689655, 1.4935107525519926)"
      ]
     },
     "execution_count": 5,
     "metadata": {},
     "output_type": "execute_result"
    }
   ],
   "source": [
    "bn=int(len(chA)*5/6)\n",
    "bgA = np.mean(chA[bn:])\n",
    "bgB = np.mean(chB[bn:])\n",
    "noise = np.std(chA[bn:]+chB[bn:])\n",
    "bgA,bgB,noise"
   ]
  },
  {
   "cell_type": "code",
   "execution_count": 6,
   "metadata": {},
   "outputs": [],
   "source": [
    "chACutBg = chA-bgA\n",
    "chBCutBg = chB-bgB\n",
    "snr = (chACutBg+chBCutBg)/noise\n",
    "chACutBg = chACutBg/overlapA\n",
    "chBCutBg = chBCutBg/overlapB\n",
    "dePolar = np.where(chACutBg!=0,chBCutBg/chACutBg,0)\n",
    "chAPR2 = chACutBg*r*r/1e6\n",
    "chBPR2 = chBCutBg*r*r/1e6 \n",
    "chPR2 = chAPR2+chBPR2"
   ]
  },
  {
   "cell_type": "code",
   "execution_count": 10,
   "metadata": {},
   "outputs": [],
   "source": [
    "sn = int(len(chA)/6)\n",
    "chMax = chPR2[:sn].max()\n",
    "chPR2N = np.where(snr>5,chPR2,0)"
   ]
  },
  {
   "cell_type": "code",
   "execution_count": 14,
   "metadata": {},
   "outputs": [
    {
     "data": {
      "text/plain": [
       "(0, 15000)"
      ]
     },
     "execution_count": 14,
     "metadata": {},
     "output_type": "execute_result"
    },
    {
     "data": {
      "image/png": "[encoded data removed]",
      "text/plain": [
       "<Figure size 432x288 with 1 Axes>"
      ]
     },
     "metadata": {
      "needs_background": "light"
     },
     "output_type": "display_data"
    }
   ],
   "source": [
    "plt.plot(r, chPR2N, color='blue')\n",
    "plt.xlim(0,15000)"
   ]
  },
  {
   "cell_type": "code",
   "execution_count": null,
   "metadata": {},
   "outputs": [],
   "source": []
  }
 ],
 "metadata": {
  "kernelspec": {
   "display_name": "Python 3",
   "language": "python",
   "name": "python3"
  },
  "language_info": {
   "codemirror_mode": {
    "name": "ipython",
    "version": 3
   },
   "file_extension": ".py",
   "mimetype": "text/x-python",
   "name": "python",
   "nbconvert_exporter": "python",
   "pygments_lexer": "ipython3",
   "version": "3.7.3"
  }
 },
 "nbformat": 4,
 "nbformat_minor": 2
}
